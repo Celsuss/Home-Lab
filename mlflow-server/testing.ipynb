{
 "cells": [
  {
   "cell_type": "code",
   "execution_count": 1,
   "metadata": {},
   "outputs": [],
   "source": [
    "import mlflow\n",
    "from PIL import Image"
   ]
  },
  {
   "cell_type": "code",
   "execution_count": 2,
   "metadata": {},
   "outputs": [
    {
     "name": "stdout",
     "output_type": "stream",
     "text": [
      "Set mlflow tracking uri: http://mlflow.localhost\n"
     ]
    }
   ],
   "source": [
    "uri = 'http://mlflow.localhost'\n",
    "\n",
    "mlflow.set_tracking_uri(uri)\n",
    "print('Set mlflow tracking uri: {}'.format(uri))"
   ]
  },
  {
   "cell_type": "code",
   "execution_count": 11,
   "metadata": {},
   "outputs": [
    {
     "name": "stdout",
     "output_type": "stream",
     "text": [
      "env: AWS_SECRET_KEY_ID=access_key\n",
      "env: AWS_SECRET_ACCESS_KEY=secret_key\n"
     ]
    }
   ],
   "source": [
    "%env AWS_SECRET_KEY_ID user\n",
    "%env AWS_SECRET_ACCESS_KEY password"
   ]
  },
  {
   "cell_type": "code",
   "execution_count": 3,
   "metadata": {},
   "outputs": [
    {
     "data": {
      "text/plain": [
       "'7'"
      ]
     },
     "execution_count": 3,
     "metadata": {},
     "output_type": "execute_result"
    }
   ],
   "source": [
    "mlflow.create_experiment('test1')"
   ]
  },
  {
   "cell_type": "code",
   "execution_count": 9,
   "metadata": {},
   "outputs": [
    {
     "data": {
      "text/plain": [
       "<Experiment: artifact_location='http://localhost:5500/api/2.0/mlflow-artifacts/artifacts/experiments/6', creation_time=1676668313908, experiment_id='6', last_update_time=1676668313908, lifecycle_stage='active', name='test5', tags={}>"
      ]
     },
     "execution_count": 9,
     "metadata": {},
     "output_type": "execute_result"
    }
   ],
   "source": [
    "mlflow.set_experiment('test5')"
   ]
  },
  {
   "cell_type": "code",
   "execution_count": 17,
   "metadata": {},
   "outputs": [
    {
     "name": "stdout",
     "output_type": "stream",
     "text": [
      "http://localhost:5500/api/2.0/mlflow-artifacts/artifacts/experiments/6/1d1aab3050a34b47bc5355fced2e378d/artifacts\n",
      "jens\n",
      "<PIL.PngImagePlugin.PngImageFile image mode=RGB size=100x100 at 0x7F909DC3FE50>\n"
     ]
    }
   ],
   "source": [
    "with mlflow.start_run(run_name='test-run') as run:\n",
    "    image = Image.new(\"RGB\", (100, 100))\n",
    "    artifact_uri = run.info.artifact_uri\n",
    "    print(artifact_uri)\n",
    "    print(run.info.user_id)\n",
    "    mlflow.log_image(image, \"image.png\")\n",
    "\n",
    "    mlflow.log_param(\"my\", \"param\")\n",
    "\n",
    "    image  = mlflow.artifacts.load_image(artifact_uri + \"/image.png\")\n",
    "    print(image)"
   ]
  },
  {
   "cell_type": "code",
   "execution_count": 18,
   "metadata": {},
   "outputs": [],
   "source": [
    "image.save('./image.png')"
   ]
  },
  {
   "cell_type": "code",
   "execution_count": null,
   "metadata": {},
   "outputs": [],
   "source": []
  }
 ],
 "metadata": {
  "kernelspec": {
   "display_name": "base",
   "language": "python",
   "name": "python3"
  },
  "language_info": {
   "codemirror_mode": {
    "name": "ipython",
    "version": 3
   },
   "file_extension": ".py",
   "mimetype": "text/x-python",
   "name": "python",
   "nbconvert_exporter": "python",
   "pygments_lexer": "ipython3",
   "version": "3.9.13"
  },
  "orig_nbformat": 4,
  "vscode": {
   "interpreter": {
    "hash": "b98515f7dabbe15ddf66f7af6ca30cc35e3501aa6277e92d28ba2fa897bfc04c"
   }
  }
 },
 "nbformat": 4,
 "nbformat_minor": 2
}
